{
 "cells": [
  {
   "cell_type": "markdown",
   "metadata": {},
   "source": [
    "# Introduction to Python and Natural Language Technologies\n",
    "\n",
    "__Laboratory 01, Introduction to Python__\n",
    "\n",
    "__Sept 10, 2020__\n",
    "\n",
    "__Submission deadline: Sept 13 23:59__\n",
    "\n",
    "You are required to complete all tasks correctly (or almost correctly) until == PASSING LEVEL ==. <br />\n",
    "In order to receive a point for a projected grade, you have to complete the exercises until == EXTRA LEVEL ==.<br />\n",
    "You can make up for mistakes by solving more exercises than the ones until Passing/Extra level.\n",
    "\n",
    "You are free to use any material (lecture, Stackoverflow etc.) except full solutions.\n",
    "\n",
    "\n",
    "# `range()` practice\n",
    "\n",
    "## Print the numbers between 60 and 69 inclusive."
   ]
  },
  {
   "cell_type": "code",
   "execution_count": null,
   "metadata": {},
   "outputs": [],
   "source": []
  },
  {
   "cell_type": "markdown",
   "metadata": {},
   "source": [
    "## Print the first 10 square numbers starting from 1."
   ]
  },
  {
   "cell_type": "code",
   "execution_count": null,
   "metadata": {},
   "outputs": [],
   "source": []
  },
  {
   "cell_type": "markdown",
   "metadata": {},
   "source": [
    "## Print the numbers from 29 to 20 (backwards)."
   ]
  },
  {
   "cell_type": "code",
   "execution_count": null,
   "metadata": {},
   "outputs": [],
   "source": []
  },
  {
   "cell_type": "markdown",
   "metadata": {},
   "source": [
    "# Reading user input\n",
    "\n",
    "User input can be read with the `input()` function. It always returns a string which can be converted to integer using the `int()` function."
   ]
  },
  {
   "cell_type": "code",
   "execution_count": null,
   "metadata": {},
   "outputs": [],
   "source": [
    "n = input()\n",
    "int(n)"
   ]
  },
  {
   "cell_type": "markdown",
   "metadata": {},
   "source": [
    "## Read a number N and print the numbers from 1 to N."
   ]
  },
  {
   "cell_type": "code",
   "execution_count": null,
   "metadata": {},
   "outputs": [],
   "source": []
  },
  {
   "cell_type": "markdown",
   "metadata": {},
   "source": [
    "## Read a number N and print the first N square numbers starting from 1."
   ]
  },
  {
   "cell_type": "code",
   "execution_count": null,
   "metadata": {},
   "outputs": [],
   "source": []
  },
  {
   "cell_type": "markdown",
   "metadata": {},
   "source": [
    "## Read numbers until 0 and print their sum."
   ]
  },
  {
   "cell_type": "code",
   "execution_count": null,
   "metadata": {},
   "outputs": [],
   "source": []
  },
  {
   "cell_type": "markdown",
   "metadata": {},
   "source": [
    "## Read numbers until 0 and print their mean and standard deviation without using a list.\n",
    "\n",
    "Do not include 0 in the statistics."
   ]
  },
  {
   "cell_type": "code",
   "execution_count": null,
   "metadata": {},
   "outputs": [],
   "source": []
  },
  {
   "cell_type": "markdown",
   "metadata": {
    "collapsed": true
   },
   "source": [
    "# Lists\n",
    "\n",
    "## Print the odd numbers from this list."
   ]
  },
  {
   "cell_type": "code",
   "execution_count": null,
   "metadata": {},
   "outputs": [],
   "source": [
    "l = [2, 3, -2, -7, 0, 2, 3]"
   ]
  },
  {
   "cell_type": "markdown",
   "metadata": {},
   "source": [
    "## Read numbers until 0 and collect them in a list. Print the elements backwards (zero not included).\n",
    "\n",
    "For example:\n",
    "\n",
    "```\n",
    "input: 3 4 2 12 3 0\n",
    "output: 3 12 3 4 3 ```"
   ]
  },
  {
   "cell_type": "code",
   "execution_count": null,
   "metadata": {},
   "outputs": [],
   "source": []
  },
  {
   "cell_type": "markdown",
   "metadata": {},
   "source": [
    "## Read a number N and then read exactly N numbers. Print them backwards.\n",
    "\n",
    "For example:\n",
    "\n",
    "```\n",
    "input: 4 -1 0 2 12\n",
    "output: 12 2 0 -1\n",
    "```"
   ]
  },
  {
   "cell_type": "code",
   "execution_count": null,
   "metadata": {},
   "outputs": [],
   "source": []
  },
  {
   "cell_type": "markdown",
   "metadata": {},
   "source": [
    "# Functions\n",
    "\n",
    "The following exercises contain function skeletons. Finish these functions.\n",
    "If you work correctly, the assert statements should not fail, however, passing all tests does not guarantee that your solution is correct.\n",
    "You are free to add more tests.\n",
    "\n",
    "## Write a function that takes an integer parameter (N) and returns a list of the first N prime numbers starting from 2."
   ]
  },
  {
   "cell_type": "code",
   "execution_count": null,
   "metadata": {},
   "outputs": [],
   "source": [
    "def get_n_primes(N):\n",
    "    # TODO\n",
    "\n",
    "assert(get_n_primes(3) == [2, 3, 5])"
   ]
  },
  {
   "cell_type": "markdown",
   "metadata": {},
   "source": [
    "# ================= PASSING LEVEL ===================="
   ]
  },
  {
   "cell_type": "markdown",
   "metadata": {},
   "source": [
    "## Write a function that takes an integer parameter (N) and returns the Nth Fibonacci number.\n",
    "\n",
    "The Fibonacci series is defined as:\n",
    "\n",
    "$$\n",
    "F_n = F_{n-1} + F_{n-2} \\text{ for } n>1\\\\\n",
    "F_0 = 0\\\\\n",
    "F_1 = 1\n",
    "$$\n",
    "\n",
    "The first few elements of the Fibonacci series are 0, 1, 1, 2, 3, 5, 8, 13 etc.\n",
    "\n",
    "Raise a `ValueError` if $N<0$."
   ]
  },
  {
   "cell_type": "code",
   "execution_count": null,
   "metadata": {},
   "outputs": [],
   "source": [
    "def get_nth_fibonacci(N):\n",
    "    # TODO\n",
    "\n",
    "assert(get_nth_fibonacci(0) == 0)\n",
    "assert(get_nth_fibonacci(1) == 1)\n",
    "assert(get_nth_fibonacci(2) == 1)\n",
    "assert(get_nth_fibonacci(5) == 5)\n",
    "assert(get_nth_fibonacci(7) == 13)\n",
    "\n",
    "try:\n",
    "    get_nth_fibonacci(-2)\n",
    "except ValueError:\n",
    "    pass\n",
    "else:\n",
    "    print(\"TEST FAILS. Negative index should raise a ValueError.\")"
   ]
  },
  {
   "cell_type": "markdown",
   "metadata": {},
   "source": [
    "## Write a function that takes an integer parameter (N) and returns a list of the first N Fibonacci numbers starting from $F_1$ to $F_N$ inclusive.\n",
    "\n",
    "You are encouraged to reuse previous functions."
   ]
  },
  {
   "cell_type": "code",
   "execution_count": null,
   "metadata": {},
   "outputs": [],
   "source": [
    "def get_n_fibonacci(N):\n",
    "    # TODO\n",
    "    \n",
    "assert(get_n_fibonacci(4) == [1, 1, 2, 3])\n",
    "assert(get_n_fibonacci(0) == [])"
   ]
  },
  {
   "cell_type": "markdown",
   "metadata": {},
   "source": [
    "## Write a function that takes two integers, A and B and returns B-A Fibonacci numbers starting from the Ath Fibonacci number to the (B-1)th number. See the example below."
   ]
  },
  {
   "cell_type": "code",
   "execution_count": null,
   "metadata": {},
   "outputs": [],
   "source": [
    "def get_range_fibonacci(A, B):\n",
    "    # TODO\n",
    "\n",
    "assert(get_range_fibonacci(2, 5) == [1, 2, 3])\n",
    "assert(get_range_fibonacci(5, 5) == [])\n",
    "assert(get_range_fibonacci(1, 5) == [1, 1, 2, 3])"
   ]
  },
  {
   "cell_type": "markdown",
   "metadata": {},
   "source": [
    "# Default and keyword arguments\n",
    "\n",
    "## Write a function that computes the sum of a list with an optional starting value. If no starting value is provided, it should sum from 0."
   ]
  },
  {
   "cell_type": "code",
   "execution_count": null,
   "metadata": {},
   "outputs": [],
   "source": [
    "# TODO def sum_list...\n",
    "\n",
    "assert(sum_list([1, 2, 3]) == 6)\n",
    "assert(sum_list([1, 2, 3], 5) == 11)"
   ]
  },
  {
   "cell_type": "markdown",
   "metadata": {},
   "source": [
    "## Write a function that takes two numbers and an arithmetic operator as a string (\"+\", \"-\", \"\\*\" or \"/\") and returns the result of the arithmetic operation on the two numbers. The default operation should be addition."
   ]
  },
  {
   "cell_type": "code",
   "execution_count": null,
   "metadata": {},
   "outputs": [],
   "source": [
    "# TODO def arithmetic...\n",
    "\n",
    "assert(arithmetic(2, 3) == 5)\n",
    "assert(arithmetic(2, 3, \"-\") == -1)\n",
    "assert(arithmetic(2, 3, \"*\") == 6)\n",
    "assert(arithmetic(2, 3, \"/\") == 2/3)"
   ]
  },
  {
   "cell_type": "markdown",
   "metadata": {},
   "source": [
    "## Write a function that takes three parameters. The third is a callable (function) that takes two parameters. The function should call its third parameter with the first two as parameters. If the third parameter is not specified the function should add the two arguments.\n",
    "\n",
    "This is very similar to the previous function but the third parameter is a function instead of a string."
   ]
  },
  {
   "cell_type": "code",
   "execution_count": null,
   "metadata": {},
   "outputs": [],
   "source": [
    "# TODO def call_func(...)\n",
    "\n",
    "def product(x, y):\n",
    "    return x * y\n",
    "\n",
    "assert(call_func(3, 4, product) == 12)\n",
    "assert(call_func(\"foo\", \"bar\") == \"foobar\")"
   ]
  },
  {
   "cell_type": "markdown",
   "metadata": {},
   "source": [
    "# ================= EXTRA LEVEL ===================="
   ]
  },
  {
   "cell_type": "markdown",
   "metadata": {},
   "source": [
    "# Additional exercises\n",
    "\n",
    "## Create a function that take a list and a predicate (function with boolean return value) as parameters and returns a new list of those elements which the predicate return True.\n",
    "\n",
    "A predicate is a function that takes one element and return `True` or `False`, for example `is_even`, `is_prime`.\n",
    "\n",
    "If you implemented The following tests should run."
   ]
  },
  {
   "cell_type": "code",
   "execution_count": null,
   "metadata": {},
   "outputs": [],
   "source": [
    "def filter_list(input_list, predicate):\n",
    "    # TODO\n",
    "    return output_list\n",
    "\n",
    "def is_prime(n):\n",
    "    # TODO\n",
    "    pass\n",
    "\n",
    "def is_odd(n):\n",
    "    return n % 2 == 1\n",
    "\n",
    "l1 = [1, 2, 3, 4, 19, 35, 11]\n",
    "\n",
    "assert(filter_list(l1, is_odd) == [1, 3, 19, 35, 11])\n",
    "assert(filter_list(l1, is_prime) == [2, 3, 19, 11])"
   ]
  },
  {
   "cell_type": "markdown",
   "metadata": {},
   "source": [
    "## Reduce is a function that applies a two argument function against an accumulator and each element in the sequence (from left to right) to reduce it to a single value. If no initial value is provided, the accumulator is initialized with the return value of the function run on the first two elements of the sequence.\n",
    "\n",
    "```\n",
    "reduce([1, 2, 3], product) ---> 6\n",
    "reduce([1, 2, 3], product, accumulator=10) ---> 60\n",
    "reduce([\"foo\", \"bar\"], string_addition) ---> \"foobar\"\n",
    "reduce([\"foo\", \"bar\"], string_addition, accumulator=\"hello\") ---> \"hellofoobar\"\n",
    "```"
   ]
  },
  {
   "cell_type": "code",
   "execution_count": null,
   "metadata": {},
   "outputs": [],
   "source": [
    "def reduce(l, acc_func, accumulator=None):\n",
    "    # TODO\n",
    "    \n",
    "def add(x, y):\n",
    "    return x + y\n",
    "\n",
    "l1 = [1, 2, -1, 5]\n",
    "\n",
    "assert(reduce(l1, add) == 7)\n",
    "assert(reduce(l1, add, 10) == 17)"
   ]
  },
  {
   "cell_type": "code",
   "execution_count": null,
   "metadata": {},
   "outputs": [],
   "source": [
    "def string_len_add(acc, s):\n",
    "    return acc + len(s)\n",
    "\n",
    "l2 = [\"foo\", \"bar\", \"hello\"]\n",
    "\n",
    "assert(reduce(l2, string_len_add, 0) == 11)"
   ]
  },
  {
   "cell_type": "markdown",
   "metadata": {},
   "source": [
    "## Use your reduce function for the following operations:\n",
    "\n",
    "1. count the number of odd elements in a list of integers,\n",
    "2. find the maximum of a list of integers,\n",
    "3. find the longest string in list of strings.\n",
    "\n",
    "Test your solutions."
   ]
  },
  {
   "cell_type": "code",
   "execution_count": null,
   "metadata": {},
   "outputs": [],
   "source": []
  },
  {
   "cell_type": "markdown",
   "metadata": {},
   "source": [
    "## Implement qsort. Qsort sorts a list in place using the quicksort algorithm."
   ]
  },
  {
   "cell_type": "code",
   "execution_count": null,
   "metadata": {},
   "outputs": [],
   "source": [
    "def qsort(l):\n",
    "    # TODO\n",
    "    \n",
    "l = [10, -1, 2, 11, 0]\n",
    "\n",
    "qsort(l)\n",
    "\n",
    "assert(l == [-1, 0, 2, 10, 11])"
   ]
  },
  {
   "cell_type": "markdown",
   "metadata": {},
   "source": [
    "## Implement bubble sort (in place)."
   ]
  },
  {
   "cell_type": "code",
   "execution_count": null,
   "metadata": {},
   "outputs": [],
   "source": [
    "def bubblesort(l):\n",
    "    # TODO\n",
    "    \n",
    "l = [10, -1, 2, 11, 0]\n",
    "\n",
    "bubblesort(l)\n",
    "\n",
    "assert(l == [-1, 0, 2, 10, 11])"
   ]
  }
 ],
 "metadata": {
  "kernelspec": {
   "display_name": "Python 3",
   "language": "python",
   "name": "python3"
  },
  "language_info": {
   "codemirror_mode": {
    "name": "ipython",
    "version": 3
   },
   "file_extension": ".py",
   "mimetype": "text/x-python",
   "name": "python",
   "nbconvert_exporter": "python",
   "pygments_lexer": "ipython3",
   "version": "3.7.6"
  },
  "toc": {
   "base_numbering": 1,
   "nav_menu": {
    "height": "12px",
    "width": "252px"
   },
   "number_sections": true,
   "sideBar": true,
   "skip_h1_title": false,
   "title_cell": "Table of Contents",
   "title_sidebar": "Contents",
   "toc_cell": false,
   "toc_position": {},
   "toc_section_display": "block",
   "toc_window_display": true
  }
 },
 "nbformat": 4,
 "nbformat_minor": 2
}
